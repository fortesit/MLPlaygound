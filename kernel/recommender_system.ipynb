{
 "cells": [
  {
   "cell_type": "markdown",
   "metadata": {},
   "source": [
    "## Recommender System can be solved by Factorization Machine\n",
    "\n",
    "### Reasons to use Factorization Machine\n",
    "\n",
    "* While matrix factorization algo, such as SVD++, only deal with user-item interactions, Factorization Machine can deal with extra data, such as user profile. In this dataset, there are user profile data, including gender, age, country. \n",
    "* FM is a more generic approach. It can do classification and regression under the same framework.\n",
    "\n",
    "\n",
    "### Some Issues in the prototype:\n",
    "\n",
    "+ Since the matrix is extremely large, memory would be an issue. I only select 200 most voted female customer due to the limitation of computational resources.\n",
    "+ Learning time can also be an issue. Since the number of customers and items can be very large, FM may take long time to train. Please note that FM is actually a highly efficient algorithm. \n",
    "\n",
    "### Background on Factorization Machine\n",
    "\n",
    "Factorization Machine achieve high efficiency by decomposing $w_{ij}$ (weight of interaction of feature i and j) into dot product $<v_i, v_j>$. This reduces the number of parameters from $O(n^2)$ to $O(n)$. Also, this approach solves the problem of sparsity. There is not many samples to estimate $w_{ij}$. However, to estimate $v_i$ is much easier as there are many samples for each i.\n",
    "\n",
    "\n",
    "### About the input\n",
    "\n",
    "The input of model is a sparse matrix consists of four kinds of features: user, artist, user history and gender. I remove the age feature due to limitation of computational resource. User, artist and gender is one-hot encoded and user history is many-hot: each user likes more than one artist. user history vector is set to one if the user has listened to him/her before. Each record is concated by these four sparse vector and the total input matrix is a sparse matrix consists of these records\n",
    "\n",
    "\n",
    "### Preprocessing\n",
    "\n",
    "The target is log transformed as it is highly diverse. Also, scale does not matter in this problem\n",
    "\n",
    "\n",
    "### Optimization\n",
    "\n",
    "This hyper-parameters are optimized by bayesian optimation\n",
    "\n",
    "\n",
    "### Recommendation\n",
    "\n",
    "The recommender system predict for each user the score he/ she would give to each artist. It returns the most liked artist for each user\n",
    "\n",
    "## <span style=\"color:blue\">Remark: tffm can only be run in tensorflow==1.3</span>"
   ]
  },
  {
   "cell_type": "code",
   "execution_count": 4,
   "metadata": {},
   "outputs": [],
   "source": [
    "import pandas as pd\n",
    "import numpy as np\n",
    "from sklearn import preprocessing\n",
    "from sklearn.model_selection import train_test_split\n",
    "from sklearn.metrics import roc_auc_score, accuracy_score\n",
    "import gc\n",
    "\n",
    "def data_preprocessing():\n",
    "\n",
    "    data = pd.read_csv('data/lastfm-dataset-360K/usersha1-artmbid-artname-plays.tsv', sep = '\\t', header = None)\n",
    "    data.columns = ['user_id', 'artist_id', 'artist_name', 'plays']\n",
    "\n",
    "    profile = pd.read_csv('data/lastfm-dataset-360K/usersha1-profile.tsv', sep = '\\t', header = None)\n",
    "    profile.columns = ['user_id', 'gender', 'age', 'country', 'signup_date']\n",
    "\n",
    "\n",
    "    female_user = profile[profile['gender'] == 'f']['user_id']\n",
    "\n",
    "    data = data[data['user_id'].isin(female_user)]\n",
    "\n",
    "    selected_user = data['user_id'].value_counts().iloc[:200].index\n",
    "\n",
    "    data = data[data['user_id'].isin(selected_user)]\n",
    "\n",
    "    data = pd.merge(data, profile, how = 'inner', left_on = 'user_id', right_on = 'user_id', left_index = True)\n",
    "\n",
    "\n",
    "    data['log_plays'] = np.log1p(data['plays'])\n",
    "\n",
    "    plays = data['plays']\n",
    "    data.drop('plays', inplace = True, axis = 1)\n",
    "\n",
    "    data.dropna(subset = ['artist_name'], inplace = True)\n",
    "\n",
    "    user_encoder = preprocessing.LabelEncoder()\n",
    "    artist_encoder = preprocessing.LabelEncoder()\n",
    "\n",
    "    data['encoded_user'] = user_encoder.fit_transform(data['user_id'])\n",
    "    data['encoded_artist'] = artist_encoder.fit_transform(data['artist_name'])\n",
    "\n",
    "    y = data['log_plays']\n",
    "    data = data[['encoded_user', 'encoded_artist', 'gender', 'country']]\n",
    "\n",
    "    data.reset_index(inplace = True)\n",
    "\n",
    "\n",
    "    gc.collect()\n",
    "\n",
    "    X_train, X_test, y_train, y_test = train_test_split(data.index, y, random_state=42, test_size=0.3)\n",
    "\n",
    "    history = data.groupby('encoded_user')['encoded_artist'].apply(list)\n",
    "\n",
    "    X = pd.get_dummies(data, columns = ['encoded_user', 'encoded_artist', 'gender', 'country'], sparse = True)\n",
    "    X.drop(['index'], inplace = True, axis = 1)\n",
    "\n",
    "    history_record = pd.DataFrame(0, index = range(200), columns = ['history_' + str(artist) for artist in data['encoded_artist'].unique()])\n",
    "\n",
    "    for i, records in enumerate(history.values):\n",
    "        records_col = ['history_' + str(each) for each in records]\n",
    "        history_record.loc[i][records_col] = 1\n",
    "\n",
    "\n",
    "    history_to_be_added = history_record.loc[data['encoded_user']]\n",
    "\n",
    "    history_to_be_added = history_to_be_added.to_sparse()\n",
    "\n",
    "    gc.collect()\n",
    "\n",
    "    history_to_be_added.reset_index(inplace=True)\n",
    "\n",
    "    for col in history_to_be_added.columns:\n",
    "        X[col] = history_to_be_added[col]\n",
    "        \n",
    "        \n",
    "    return X, y, X_train, X_test, y_train, y_test, user_encoder, artist_encoder, selected_user, profile, history"
   ]
  },
  {
   "cell_type": "code",
   "execution_count": 14,
   "metadata": {
    "scrolled": true
   },
   "outputs": [],
   "source": [
    "X, y, X_train, X_test, y_train, y_test, user_encoder, artist_encoder, selected_user, profile, history = data_preprocessing()"
   ]
  },
  {
   "cell_type": "code",
   "execution_count": 15,
   "metadata": {},
   "outputs": [
    {
     "data": {
      "text/plain": [
       "49"
      ]
     },
     "execution_count": 15,
     "metadata": {},
     "output_type": "execute_result"
    }
   ],
   "source": [
    "import gc\n",
    "\n",
    "del X, data, profile\n",
    "gc.collect()"
   ]
  },
  {
   "cell_type": "code",
   "execution_count": 33,
   "metadata": {},
   "outputs": [],
   "source": [
    "import scipy.sparse as sp\n",
    "\n",
    "X_tr_sparse = sp.csr_matrix(X.loc[X_train])\n",
    "X_te_sparse = sp.csr_matrix(X.loc[X_test])"
   ]
  },
  {
   "cell_type": "code",
   "execution_count": 37,
   "metadata": {},
   "outputs": [],
   "source": [
    "from sklearn.metrics import mean_squared_error\n",
    "from math import sqrt\n",
    "from tffm import TFFMRegressor\n",
    "import tensorflow as tf\n",
    "\n",
    "def tffm_regressor_score(rank, learning_rate, reg):\n",
    "    rank = int(rank)\n",
    "    \n",
    "    order = 2\n",
    "    model = TFFMRegressor(\n",
    "        order=order, \n",
    "        rank=rank, \n",
    "        optimizer=tf.train.AdamOptimizer(learning_rate=learning_rate), \n",
    "        n_epochs=30, \n",
    "        batch_size=64,\n",
    "        init_std=0.1,\n",
    "        reg=reg,\n",
    "        input_type='sparse'\n",
    "    )\n",
    "    model.fit(X_tr_sparse, np.array(y_train), show_progress=True)\n",
    "    predictions = model.predict(X_te_sparse)\n",
    "    \n",
    "    return - sqrt(mean_squared_error(np.array(y_test), predictions))"
   ]
  },
  {
   "cell_type": "code",
   "execution_count": 38,
   "metadata": {},
   "outputs": [],
   "source": [
    "from bayes_opt import BayesianOptimization\n",
    "\n",
    "FM_BO = BayesianOptimization(tffm_regressor_score, \n",
    "                          {'rank' :(3, 10), \n",
    "                           'learning_rate' :(0.0005, 0.01),\n",
    "                           'reg': (0.005, 0.1)}\n",
    "                         )"
   ]
  },
  {
   "cell_type": "code",
   "execution_count": 39,
   "metadata": {
    "scrolled": true
   },
   "outputs": [
    {
     "name": "stdout",
     "output_type": "stream",
     "text": [
      "Initialization\n",
      "-----------------------------------------------------------------------\n",
      " Step |   Time |      Value |   learning_rate |      rank |       reg | \n"
     ]
    },
    {
     "name": "stderr",
     "output_type": "stream",
     "text": [
      "100%|███████████████████████████████████████████████████████████████████████████████| 30/30 [01:19<00:00,  2.63s/epoch]\n"
     ]
    },
    {
     "name": "stdout",
     "output_type": "stream",
     "text": [
      "    1 | 01m19s |   -1.22981 |          0.0032 |    5.8588 |    0.0546 | \n"
     ]
    },
    {
     "name": "stderr",
     "output_type": "stream",
     "text": [
      "100%|███████████████████████████████████████████████████████████████████████████████| 30/30 [01:30<00:00,  3.00s/epoch]\n"
     ]
    },
    {
     "name": "stdout",
     "output_type": "stream",
     "text": [
      "    2 | 01m30s |   -2.65849 |          0.0051 |    9.8469 |    0.0314 | \n"
     ]
    },
    {
     "name": "stderr",
     "output_type": "stream",
     "text": [
      "100%|███████████████████████████████████████████████████████████████████████████████| 30/30 [01:28<00:00,  2.94s/epoch]\n"
     ]
    },
    {
     "name": "stdout",
     "output_type": "stream",
     "text": [
      "    3 | 01m29s |  -42.63065 |          0.0048 |    9.7880 |    0.0430 | \n"
     ]
    },
    {
     "name": "stderr",
     "output_type": "stream",
     "text": [
      "100%|███████████████████████████████████████████████████████████████████████████████| 30/30 [01:17<00:00,  2.59s/epoch]\n"
     ]
    },
    {
     "name": "stdout",
     "output_type": "stream",
     "text": [
      "    4 | 01m18s |   -2.02902 |          0.0097 |    5.9987 |    0.0712 | \n"
     ]
    },
    {
     "name": "stderr",
     "output_type": "stream",
     "text": [
      "100%|███████████████████████████████████████████████████████████████████████████████| 30/30 [01:18<00:00,  2.62s/epoch]\n"
     ]
    },
    {
     "name": "stdout",
     "output_type": "stream",
     "text": [
      "    5 | 01m19s |   -1.15964 |          0.0006 |    5.8242 |    0.0920 | \n"
     ]
    },
    {
     "name": "stderr",
     "output_type": "stream",
     "text": [
      "100%|███████████████████████████████████████████████████████████████████████████████| 30/30 [01:18<00:00,  2.60s/epoch]\n"
     ]
    },
    {
     "name": "stdout",
     "output_type": "stream",
     "text": [
      "    6 | 01m18s |   -1.24147 |          0.0040 |    5.0260 |    0.0176 | \n"
     ]
    },
    {
     "name": "stderr",
     "output_type": "stream",
     "text": [
      "100%|███████████████████████████████████████████████████████████████████████████████| 30/30 [01:23<00:00,  2.80s/epoch]\n"
     ]
    },
    {
     "name": "stdout",
     "output_type": "stream",
     "text": [
      "    7 | 01m24s |   -2.11322 |          0.0050 |    7.5138 |    0.0686 | \n"
     ]
    },
    {
     "name": "stderr",
     "output_type": "stream",
     "text": [
      "100%|███████████████████████████████████████████████████████████████████████████████| 30/30 [01:16<00:00,  2.55s/epoch]\n"
     ]
    },
    {
     "name": "stdout",
     "output_type": "stream",
     "text": [
      "    8 | 01m17s |   -1.46208 |          0.0039 |    3.8986 |    0.0379 | \n"
     ]
    },
    {
     "name": "stderr",
     "output_type": "stream",
     "text": [
      "100%|███████████████████████████████████████████████████████████████████████████████| 30/30 [01:17<00:00,  2.59s/epoch]\n"
     ]
    },
    {
     "name": "stdout",
     "output_type": "stream",
     "text": [
      "    9 | 01m18s |   -1.17107 |          0.0011 |    4.3645 |    0.0591 | \n"
     ]
    },
    {
     "name": "stderr",
     "output_type": "stream",
     "text": [
      "100%|███████████████████████████████████████████████████████████████████████████████| 30/30 [01:17<00:00,  2.57s/epoch]\n"
     ]
    },
    {
     "name": "stdout",
     "output_type": "stream",
     "text": [
      "   10 | 01m17s |   -1.34251 |          0.0039 |    4.8152 |    0.0661 | \n",
      "Bayesian Optimization\n",
      "-----------------------------------------------------------------------\n",
      " Step |   Time |      Value |   learning_rate |      rank |       reg | \n"
     ]
    },
    {
     "name": "stderr",
     "output_type": "stream",
     "text": [
      "100%|███████████████████████████████████████████████████████████████████████████████| 30/30 [01:16<00:00,  2.56s/epoch]\n"
     ]
    },
    {
     "name": "stdout",
     "output_type": "stream",
     "text": [
      "   11 | 01m18s |   -2.06113 |          0.0100 |    3.0000 |    0.1000 | \n"
     ]
    },
    {
     "name": "stderr",
     "output_type": "stream",
     "text": [
      "100%|███████████████████████████████████████████████████████████████████████████████| 30/30 [01:25<00:00,  2.86s/epoch]\n"
     ]
    },
    {
     "name": "stdout",
     "output_type": "stream",
     "text": [
      "   12 | 01m27s |   -2.13338 |          0.0044 |    8.5492 |    0.0955 | \n"
     ]
    },
    {
     "name": "stderr",
     "output_type": "stream",
     "text": [
      "100%|███████████████████████████████████████████████████████████████████████████████| 30/30 [01:21<00:00,  2.72s/epoch]\n"
     ]
    },
    {
     "name": "stdout",
     "output_type": "stream",
     "text": [
      "   13 | 01m23s |   -4.29490 |          0.0100 |    6.9858 |    0.0050 | \n"
     ]
    },
    {
     "name": "stderr",
     "output_type": "stream",
     "text": [
      "100%|███████████████████████████████████████████████████████████████████████████████| 30/30 [01:26<00:00,  2.90s/epoch]\n"
     ]
    },
    {
     "name": "stdout",
     "output_type": "stream",
     "text": [
      "   14 | 01m28s |   -4.36408 |          0.0082 |    8.0704 |    0.0280 | \n"
     ]
    },
    {
     "name": "stderr",
     "output_type": "stream",
     "text": [
      "100%|███████████████████████████████████████████████████████████████████████████████| 30/30 [01:31<00:00,  3.06s/epoch]\n"
     ]
    },
    {
     "name": "stdout",
     "output_type": "stream",
     "text": [
      "   15 | 01m32s |   -7.88231 |          0.0100 |   10.0000 |    0.0050 | \n"
     ]
    },
    {
     "name": "stderr",
     "output_type": "stream",
     "text": [
      "100%|███████████████████████████████████████████████████████████████████████████████| 30/30 [01:29<00:00,  2.97s/epoch]\n"
     ]
    },
    {
     "name": "stdout",
     "output_type": "stream",
     "text": [
      "   16 | 01m30s |  -10.60281 |          0.0090 |    9.2724 |    0.0251 | \n"
     ]
    },
    {
     "name": "stderr",
     "output_type": "stream",
     "text": [
      "100%|███████████████████████████████████████████████████████████████████████████████| 30/30 [01:17<00:00,  2.60s/epoch]\n"
     ]
    },
    {
     "name": "stdout",
     "output_type": "stream",
     "text": [
      "   17 | 01m19s |   -1.76239 |          0.0092 |    4.7670 |    0.0699 | \n"
     ]
    },
    {
     "name": "stderr",
     "output_type": "stream",
     "text": [
      "100%|███████████████████████████████████████████████████████████████████████████████| 30/30 [01:21<00:00,  2.73s/epoch]\n"
     ]
    },
    {
     "name": "stdout",
     "output_type": "stream",
     "text": [
      "   18 | 01m23s |   -2.37699 |          0.0072 |    6.4820 |    0.0976 | \n"
     ]
    },
    {
     "name": "stderr",
     "output_type": "stream",
     "text": [
      "100%|███████████████████████████████████████████████████████████████████████████████| 30/30 [01:15<00:00,  2.53s/epoch]\n"
     ]
    },
    {
     "name": "stdout",
     "output_type": "stream",
     "text": [
      "   19 | 01m17s |   -2.70548 |          0.0100 |    3.4518 |    0.0050 | \n"
     ]
    },
    {
     "name": "stderr",
     "output_type": "stream",
     "text": [
      "100%|███████████████████████████████████████████████████████████████████████████████| 30/30 [01:17<00:00,  2.59s/epoch]\n"
     ]
    },
    {
     "name": "stdout",
     "output_type": "stream",
     "text": [
      "   20 | 01m19s |   -1.43841 |          0.0025 |    5.4307 |    0.0052 | \n"
     ]
    },
    {
     "name": "stderr",
     "output_type": "stream",
     "text": [
      "100%|███████████████████████████████████████████████████████████████████████████████| 30/30 [01:15<00:00,  2.52s/epoch]\n"
     ]
    },
    {
     "name": "stdout",
     "output_type": "stream",
     "text": [
      "   21 | 01m17s |   -1.94782 |          0.0091 |    3.2284 |    0.0127 | \n"
     ]
    },
    {
     "name": "stderr",
     "output_type": "stream",
     "text": [
      "100%|███████████████████████████████████████████████████████████████████████████████| 30/30 [01:25<00:00,  2.86s/epoch]\n"
     ]
    },
    {
     "name": "stdout",
     "output_type": "stream",
     "text": [
      "   22 | 01m28s |   -2.74664 |          0.0078 |    8.8960 |    0.0053 | \n"
     ]
    },
    {
     "name": "stderr",
     "output_type": "stream",
     "text": [
      "100%|███████████████████████████████████████████████████████████████████████████████| 30/30 [01:23<00:00,  2.78s/epoch]\n"
     ]
    },
    {
     "name": "stdout",
     "output_type": "stream",
     "text": [
      "   23 | 01m25s |   -3.25478 |          0.0064 |    7.7930 |    0.0996 | \n"
     ]
    },
    {
     "name": "stderr",
     "output_type": "stream",
     "text": [
      "100%|███████████████████████████████████████████████████████████████████████████████| 30/30 [01:19<00:00,  2.65s/epoch]\n"
     ]
    },
    {
     "name": "stdout",
     "output_type": "stream",
     "text": [
      "   24 | 01m20s |   -1.65622 |          0.0070 |    5.9263 |    0.0546 | \n"
     ]
    },
    {
     "name": "stderr",
     "output_type": "stream",
     "text": [
      "100%|███████████████████████████████████████████████████████████████████████████████| 30/30 [01:24<00:00,  2.83s/epoch]\n"
     ]
    },
    {
     "name": "stdout",
     "output_type": "stream",
     "text": [
      "   25 | 01m27s |   -1.17053 |          0.0005 |    7.2448 |    0.1000 | \n"
     ]
    },
    {
     "name": "stderr",
     "output_type": "stream",
     "text": [
      "100%|███████████████████████████████████████████████████████████████████████████████| 30/30 [01:21<00:00,  2.73s/epoch]\n"
     ]
    },
    {
     "name": "stdout",
     "output_type": "stream",
     "text": [
      "   26 | 01m24s |   -1.21448 |          0.0017 |    6.7377 |    0.0991 | \n"
     ]
    },
    {
     "name": "stderr",
     "output_type": "stream",
     "text": [
      "100%|███████████████████████████████████████████████████████████████████████████████| 30/30 [01:21<00:00,  2.71s/epoch]\n"
     ]
    },
    {
     "name": "stdout",
     "output_type": "stream",
     "text": [
      "   27 | 01m23s |   -1.36145 |          0.0037 |    6.2435 |    0.0055 | \n"
     ]
    },
    {
     "name": "stderr",
     "output_type": "stream",
     "text": [
      "100%|███████████████████████████████████████████████████████████████████████████████| 30/30 [01:17<00:00,  2.59s/epoch]\n"
     ]
    },
    {
     "name": "stdout",
     "output_type": "stream",
     "text": [
      "   28 | 01m20s |   -1.90252 |          0.0083 |    4.1320 |    0.0999 | \n"
     ]
    },
    {
     "name": "stderr",
     "output_type": "stream",
     "text": [
      "100%|███████████████████████████████████████████████████████████████████████████████| 30/30 [01:25<00:00,  2.84s/epoch]\n"
     ]
    },
    {
     "name": "stdout",
     "output_type": "stream",
     "text": [
      "   29 | 01m28s |   -1.67510 |          0.0086 |    8.3220 |    0.0078 | \n"
     ]
    },
    {
     "name": "stderr",
     "output_type": "stream",
     "text": [
      "100%|███████████████████████████████████████████████████████████████████████████████| 30/30 [01:29<00:00,  2.99s/epoch]\n"
     ]
    },
    {
     "name": "stdout",
     "output_type": "stream",
     "text": [
      "   30 | 01m32s |   -1.33205 |          0.0065 |    9.5170 |    0.1000 | \n"
     ]
    }
   ],
   "source": [
    "FM_BO.maximize(n_iter = 20, init_points=10)"
   ]
  },
  {
   "cell_type": "code",
   "execution_count": 40,
   "metadata": {
    "scrolled": true
   },
   "outputs": [
    {
     "data": {
      "text/plain": [
       "{'max_val': -1.1596375231638125,\n",
       " 'max_params': {'rank': 5.8242099837337813,\n",
       "  'learning_rate': 0.00064084533179448405,\n",
       "  'reg': 0.092006569503125024}}"
      ]
     },
     "execution_count": 40,
     "metadata": {},
     "output_type": "execute_result"
    }
   ],
   "source": [
    "FM_BO.res['max']"
   ]
  },
  {
   "cell_type": "code",
   "execution_count": 41,
   "metadata": {},
   "outputs": [],
   "source": [
    "import json\n",
    "with open('optimized_params.json', 'w') as outfile:\n",
    "    json.dump(FM_BO.res['max'], outfile)"
   ]
  },
  {
   "cell_type": "markdown",
   "metadata": {},
   "source": [
    "## Recommender System"
   ]
  },
  {
   "cell_type": "markdown",
   "metadata": {},
   "source": [
    "### you can run start from here"
   ]
  },
  {
   "cell_type": "code",
   "execution_count": 5,
   "metadata": {
    "scrolled": true
   },
   "outputs": [],
   "source": [
    "X, y, X_train, X_test, y_train, y_test, user_encoder, artist_encoder, selected_user, profile, history = data_preprocessing()"
   ]
  },
  {
   "cell_type": "code",
   "execution_count": 6,
   "metadata": {},
   "outputs": [],
   "source": [
    "import json\n",
    "\n",
    "with open('optimized_params.json') as f:\n",
    "    params = json.load(f)"
   ]
  },
  {
   "cell_type": "code",
   "execution_count": 7,
   "metadata": {},
   "outputs": [],
   "source": [
    "from sklearn.metrics import mean_squared_error\n",
    "from math import sqrt\n",
    "from tffm import TFFMRegressor\n",
    "import tensorflow as tf\n",
    "from bayes_opt import BayesianOptimization\n",
    "import scipy.sparse as sp\n",
    "\n",
    "class recommender_system(object):\n",
    "    \n",
    "    def __init__(self):\n",
    "\n",
    "        self.X = X\n",
    "        self.y = y\n",
    "        self.artist_list = [each for each in self.X.columns if 'artist' in each]\n",
    "        self.user_encoder = user_encoder\n",
    "        self.artist_encoder = artist_encoder\n",
    "        self.selected_user = profile[(profile['gender'] == 'f') & \n",
    "                                     (profile['user_id'].isin(selected_user))]\n",
    "\n",
    "        self.X_sparse = sp.csr_matrix(X)\n",
    "        \n",
    "        \n",
    "    def train(self, rank, learning_rate, reg):\n",
    "\n",
    "        self.rank = int(rank)\n",
    "        self.learning_rate = learning_rate\n",
    "        self.reg = reg\n",
    "\n",
    "        order = 2\n",
    "        self.model = TFFMRegressor(\n",
    "            order=order, \n",
    "            rank=self.rank, \n",
    "            optimizer=tf.train.AdamOptimizer(learning_rate=self.learning_rate), \n",
    "            n_epochs=30, \n",
    "            batch_size=64,\n",
    "            init_std=0.1,\n",
    "            reg=self.reg,\n",
    "            input_type='sparse'\n",
    "        )\n",
    "\n",
    "        self.model.fit(self.X_sparse, np.array(self.y), show_progress=True)\n",
    "        \n",
    "    def recommend(self):\n",
    "        \n",
    "        total_artist = len(self.artist_list)\n",
    "        self.recommendation = {}\n",
    "        for user in self.selected_user.values:\n",
    "            user_id = self.user_encoder.transform([user[0]])[0]\n",
    "            country = user[3]\n",
    "            prediction_matrix = pd.DataFrame(0, index = range(total_artist), columns = self.X.columns)\n",
    "\n",
    "            for i in range(total_artist):\n",
    "                prediction_matrix.loc[i]['encoded_artist_' + str(i)] = 1\n",
    "\n",
    "            prediction_matrix['encoded_user_' + str(user_id)] = 1\n",
    "            prediction_matrix['gender_f'] = 1\n",
    "            prediction_matrix['country_' + country] = 1\n",
    "\n",
    "            for artist in history[user_id]:\n",
    "                prediction_matrix['history_' + str(artist)] = 1\n",
    "\n",
    "\n",
    "\n",
    "            prediction = self.model.predict(sp.csr_matrix(prediction_matrix))\n",
    "            self.recommendation[user[0]] = self.artist_encoder.inverse_transform(np.argmax(prediction))\n",
    "            del prediction, prediction_matrix\n",
    "            gc.collect()\n",
    "            \n",
    "        return self.recommendation\n",
    "                "
   ]
  },
  {
   "cell_type": "code",
   "execution_count": 8,
   "metadata": {},
   "outputs": [],
   "source": [
    "system = recommender_system()"
   ]
  },
  {
   "cell_type": "code",
   "execution_count": 9,
   "metadata": {
    "scrolled": true
   },
   "outputs": [
    {
     "name": "stderr",
     "output_type": "stream",
     "text": [
      "100%|███████████████████████████████████████████████████████████████████████████████| 30/30 [01:43<00:00,  3.44s/epoch]\n"
     ]
    }
   ],
   "source": [
    "system.train(**params['max_params'])"
   ]
  },
  {
   "cell_type": "code",
   "execution_count": 10,
   "metadata": {
    "scrolled": true
   },
   "outputs": [],
   "source": [
    "recommendation = system.recommend()"
   ]
  },
  {
   "cell_type": "code",
   "execution_count": 11,
   "metadata": {},
   "outputs": [
    {
     "data": {
      "text/plain": [
       "{'00b853397a79019699fba7ceb1dbb8e47ec94a67': 'the weepies',\n",
       " '019db87d5373986820b439d2c3a9c3a96bdab540': 'turin brakes',\n",
       " '062c3a27808341862c7203a95008d16de008258e': 'vanguart',\n",
       " '06728ba447eb3096c4397bf4998f7b3489049957': 'boom boom satellites',\n",
       " '0701715a7c6c6bc35036ad5fa7d89ddfe6691c95': 'the hot toddies',\n",
       " '0af0de2900ec1dc10afc8a4782ff1549c8b160a1': 'sam milby',\n",
       " '0b693c05ad30fbec114e4b83ba8171e90ac696ca': 'frightened rabbit',\n",
       " '0dc9c167dfca7d11e91b8e45dc917683bfb03b3a': 'sam milby',\n",
       " '0e6b168a73f4ca504957b21ff5ac5d7b7408f00f': 'the uniques',\n",
       " '1172d5780cfe1389588469ad557afabd3d6beadc': 'nick lachey',\n",
       " '12185cbb5d0007207d6adaef2fba64721487a4ec': 'vienna teng',\n",
       " '140c9b8363f4cce509595d31e199a55990248937': 'tomte',\n",
       " '1598b8ce0be701110d5cc178de8a280387c809e4': 'butthole surfers',\n",
       " '16d334e10f16ea7cdc2c5447d3312fb748e7cd93': 'indigo girls',\n",
       " '17adfff22b9477141eff9419e8e77b196193e7a2': 'luna',\n",
       " '19907dac6921cdf2f7150f6d737f66a12e5fcd8a': 'nick lachey',\n",
       " '1b17285c8468a4c77d01488293c9ef0656e5ce8a': 'tomte',\n",
       " '1b44adc9b41dc7b2f53db0258a17ed0e3aa301b6': 'special d.',\n",
       " '1c32680ae3597f05859a13a89c3caf9048bf0aed': 'joe dassin',\n",
       " '1c77409443b487ec694c3ffdebda566362ae7ba1': 'yann tiersen',\n",
       " '1d0dd5341103cd12913bbf2430b31e1891bbf197': 'hammerfall',\n",
       " '1d6821262e5d213c9bb688235c93a2b7e035d13f': 'vienna teng',\n",
       " '1e3199437a261fcb17cf356e68081837a5538989': 'david cook',\n",
       " '1f2d5ea24570435d329f81ccedefd176906695e1': 'dethklok',\n",
       " '1f491c10c2863dc8c4fd57e594f409f001f5a4c1': 'special d.',\n",
       " '23c3a29e7c94e5066dca153483a439c0f854749a': 'felix da housecat',\n",
       " '24bdce1de17851f52b47b2ce863e011db402c348': 'michael jackson',\n",
       " '268d00ea385a58a33f23f18c73cb1dcb9a04c2e3': 'patrice',\n",
       " '27bb9cdf66706a58a7d74d82aa7a1a25a8854e29': 'youth group',\n",
       " '28b1747696954bf188614755621f6aa9e97c9a2f': 'mirah',\n",
       " '28e68c5301d5b138a3caecd596f831306a5bf53e': 'the uniques',\n",
       " '2962b14db3cecedc5ce40907bc588e38d2c1ba33': 'boom boom satellites',\n",
       " '32752f04da2bb45fc3cda89b8583db0c78926653': 'casiotone for the painfully alone',\n",
       " '33719a7a3993340c292dba5b326e73d5b9600666': 'the classic crime',\n",
       " '33fb825592e45c4fde5be0e528ce6387367ad3ba': 'joe dassin',\n",
       " '34e84b0302b6cb1c794dcfa423272e776a2b622b': 'patrice',\n",
       " '34ef9f2463c7e4d112ceeb1ad4406ba58ab22426': 'leniwiec',\n",
       " '353affea1282630eb13e011c1914a76159e55e4e': 'black eyed peas',\n",
       " '3835bfc5fbd6daf35812c55e42d0ba57e946eeba': 'deportees',\n",
       " '388358a9d87d9df9769441d6b8fa3a41a5a57c93': 'boom boom satellites',\n",
       " '3acacaf28cc05bf27d5ec9cf475c765c43b09e48': 'joe dassin',\n",
       " '3e6877faced9c6330672a46dd80b59c6ccf80c4b': 'tomte',\n",
       " '3ef6c3ecc919df41694da76b45b0db5bdf55498d': 'hammerfall',\n",
       " '3f2ba5c9fc7d395d3eb556027a08c4fe55b55183': 'boom boom satellites',\n",
       " '4149de22be17d155a84b58eaf9a7b5b7f90861a3': 'hinder',\n",
       " '41fad98b7823a9c78377befde4c44bdca7b3223d': 'yann tiersen',\n",
       " '43f0edba08289e9a8c6946577112b117fb590023': 'joe dassin',\n",
       " '440071d269d395021bea37d041c1fe3820ea89cc': 'the classic crime',\n",
       " '462b2307c4076680ecaa7fc772d69bd2e5295b2d': 'ulver',\n",
       " '49885232a7438b01fbd09f78545566c96185a84b': 'amon tobin',\n",
       " '4d64d96644c4d21f578a7111902648c8e6c095b6': 'yade',\n",
       " '4ddafccadfb57dfd1096f615ed67816c41512464': 'ulver',\n",
       " '4e26674fead9e0b53c160afb1c93e98b53f65eca': 'hammerfall',\n",
       " '4ec0e6419057c21fdcb2666f3fdee4230799b0f9': 'arvingarna',\n",
       " '4f6a4a8e52fbe2d5307c7b7f5c496f341bc99748': 'nuno prata',\n",
       " '4fd05764383b78ead324de144af4443863a63611': 'chapeau claque',\n",
       " '503b73141aa006a923bead0ad58444c26c7c15bf': 'ulver',\n",
       " '51abd9a498288a015a9f85605a780ad8d642823c': 'youth group',\n",
       " '51dd4b318a60944bc75aacc5cf782a3a5f6d0dbc': 'vanguart',\n",
       " '523c2bb67e1fe201f5d02a664d27000057ec75cc': 'faith no more',\n",
       " '536e6bb525b119fbc0ba0ae09550fac5eecfca31': 'prodigy',\n",
       " '5415d678bcfe23ffc4d2d5223aa379228a5e38e7': 'nick lachey',\n",
       " '54edf6607961db43d47a0bd17bc7b33c3fb1e5fc': 'ez3kiel',\n",
       " '559b18498dacf392110467a9e904366f8a7947a5': 'hinder',\n",
       " '55fa7964bc410b024176b87b5e99e650685a6232': 'belle and sebastian',\n",
       " '58f9a4c22c11cf8b4c2c03828017b02704c61a2a': 'black eyed peas',\n",
       " '5a07ab9831351b7658540a914ab56820168046ae': 'arvingarna',\n",
       " '5bdc89c7ae50c5bd5724b4f2ed001722739f6173': 'the vaselines',\n",
       " '5cd1236eb4e119c913dab9ead33158185d991329': 'mirah',\n",
       " '5d1c3bd7ce86663f89d366c182648af9df54dca7': 'david guetta',\n",
       " '5f6998891b0e0031f51c0bc0879b9600a8b6aae9': 'david guetta',\n",
       " '5f6bd29d11539aabe19c6ef2419018d3cf9f70d8': 'hammerfall',\n",
       " '5fc22e7290748e818c71f8a70557cb60d78946ba': 'faithless',\n",
       " '6082a66e55193ed18dbf8b02a202de6b8875d4c7': 'mirah',\n",
       " '613a9adbe4a421fd84cada46e6362e9d216e2848': 'boom boom satellites',\n",
       " '64b80665edca158effbd805a7e229490536631c4': 'ulver',\n",
       " '65bd911aa7aa1bec8fa8c3574caa8bdd521beea8': 'amorphis',\n",
       " '68d3a327769a188afebead1d0fb39b5915bd98d8': 'vanguart',\n",
       " '69368c23c2db7ae23aabd2648c542c3d9ca6470f': 'the national',\n",
       " '6ab21b5d1078c092535df058463e4b5d7b11c455': 'casiotone for the painfully alone',\n",
       " '6c67c8f0099ffb5f0c13f75e028a20bf4eac3a1e': 'boom boom satellites',\n",
       " '6d04d81c1a8b4bd42fefb3a54db8c5a4ab577f56': 'elvenking',\n",
       " '714dbddfda9479cf27eb80b6e6e4e4d345c6fd81': 'hinder',\n",
       " '7453653ac8bdcfded7553f705921505943532485': 'vienna teng',\n",
       " '747457b093751718f10dc02ccff00691b44e461e': 'the weepies',\n",
       " '75af3af9f835e03d65bec687e5352155b5fbeaa2': 'yann tiersen',\n",
       " '763688ccf3e788a3367f5b9b3fc1d6b46c9370d7': 'fabrizio de andré',\n",
       " '7747cc93c270e3c4628e68558d471dea97afae37': 'felix da housecat',\n",
       " '798594107337bb4cd57b422826d581c78ab71c12': 'joe dassin',\n",
       " '7a0930d20ee37869246967af1dd655228b6a93b5': 'emery',\n",
       " '7a6d32cb9cc337e6773d9bd1d8e1a40872405db7': 'prodigy',\n",
       " '7a7916a94f185646f8d9eea19de7978f97fd5424': 'the weepies',\n",
       " '7a7c75f3bfb3e44be47541a87375af13915cfe3f': 'florence + the machine',\n",
       " '7bcaab6997b824df3d82215ace748c3874a8a30d': 'kaiser chiefs',\n",
       " '7c9c955253a1369bfdd9aaa9e162d3ef7e4e4fc2': 'tomte',\n",
       " '7d24628545b97b6777a4fefad71535717bc95feb': 'ulver',\n",
       " '7ec9dab70c009effc12d33c59430d8de4e6a7266': 'patrice',\n",
       " '7f61375ef6dfeff76fb5a7f3b3fddcc57b56d4b5': 'clap your hands say yeah',\n",
       " '809c46fbd842b9a9b4058fab4d9e7e969f9e6c1c': '倖田來未',\n",
       " '815e02d320f411cf627418c0ee5c4259b95f87e6': 'faithless',\n",
       " '864cc2e80496af6e0a21d946e2037eb7b075c93f': 'yann tiersen',\n",
       " '8733e2c35fe392fc0dd1f668b65db4db78f74415': 'deportees',\n",
       " '8796cc33410e9baa17161e3d1a094c38064a4e93': 'vienna teng',\n",
       " '880d652b9261a09110bdd8fd295a324214a39094': 'prodigy',\n",
       " '898b423fabe11fdc5723e3faedc87464da341fcd': 'poets of the fall',\n",
       " '899f37c10a90184c8794e31baac643eb9f1f3ba9': 'randy newman',\n",
       " '8a46fe2b0d79ac7f687d556dd6548212c22d4434': 'nick lachey',\n",
       " '8b1b498b4d7a0be3bf4fcd016ab691b6441c25dc': 'hammerfall',\n",
       " '8c15b496dbe4d5b72df87ea6b75a07fe79e8c5a6': 'ulver',\n",
       " '8cc0f576e31e138b35674ff9adee041b3e96fc20': 'michał lorenc',\n",
       " '8d532a269af487d678b2861c7083c1be000e2c9b': 'vanguart',\n",
       " '8d5c46c49c6d9f67db565f0eee18d72cb01f63b3': 'boom boom satellites',\n",
       " '8f1d1dc8dacaad69c0d63e64d403230387fe95d8': 'vanguart',\n",
       " '8f40a32c76ee7897601f1b2b51abc773c55508ad': 'boom boom satellites',\n",
       " '9011deb6d28e2ffc7ef89bbd9c5c29c4e3f0926a': 'hinder',\n",
       " '91ca0266b360840f31da6a15093d7d3a6811983b': 'vienna teng',\n",
       " '91d7f9bc886baf42e13c03ae3f9f51cb905e6ea0': 'belle and sebastian',\n",
       " '94d0c8615b6dd94bc255b0c0df2e717a71a8dbf1': 'jimmy eat world',\n",
       " '96486f80a2afa2f3ed45c4abc7736a3a30a416bf': 'prodigy',\n",
       " '981a7bef2e1e0fccb3dfa272bd5a7fe33fa8e587': 'arvingarna',\n",
       " '9966a91992e2818685243ce93208df5799da6af5': 'michał lorenc',\n",
       " '9a867ce36c5275c3ec04f99304ea8bd6e2b468ad': 'hammerfall',\n",
       " '9a9eeab352cf4ada4934e8226009be1cb48273e6': 'agalloch',\n",
       " '9b2c57adb3a110750e8e2b0e9b7fb71123c7ef1a': 'amon tobin',\n",
       " '9bd16a0e108b0b109d05c6bbe5d8f65c74163545': 'felix da housecat',\n",
       " '9d964a9f4e5161c151eaeb7f51001bcc1eacbc82': 'amorphis',\n",
       " '9e324b3edbf01c056c3634586807a699feab0a54': 'niels frevert',\n",
       " '9e6ae5200b5b752a2bfa87b22b82381431a93492': 'vanguart',\n",
       " 'a3e685d55877fa65ee3ac191b0e48b81c9b93f5f': 'amon tobin',\n",
       " 'a787b2631e6579b6368248863f6033a6e676babe': 'vanguart',\n",
       " 'a9e06ac705300d67a6d87cada1be74fd419d1b4d': 'nuno prata',\n",
       " 'a9f58517f258ef23985acabd5c8366126d7d5c70': 'vanguart',\n",
       " 'acb93f134ba8e4b4e5b38a23a6a37b67ead21d4a': 'emery',\n",
       " 'ade5bb048499e568ded2de2d09717bed8c1f40aa': 'the classic crime',\n",
       " 'ae6ca176d91bc7ad4e4da3a6fca6a47b7f34ee9a': '12 stones',\n",
       " 'aed7ba5f1e583a81258ce0c4de5ffb0384d42994': 'vienna teng',\n",
       " 'b16075ba6a0b83eca89a7f17a5e6ed22a50b294d': 'amon tobin',\n",
       " 'b183aab7ba29040a398c729b080856ea2dc13c7d': 'joe dassin',\n",
       " 'b3b1cfe487e053df884aa7c136e20697345f7411': 'michael jackson',\n",
       " 'b449c54e5aba776d94fd0e566b44f4606629f6b4': 'felix da housecat',\n",
       " 'b4ef1b63fc188fc7953892f214f636f9d556f0b1': 'boom boom satellites',\n",
       " 'b8794637c17a7ee553dcea448697870d739b7a3b': 'yann tiersen',\n",
       " 'b8c269eb969a5fcb13f2327d30eb53ac963f51ba': 'jimmy eat world',\n",
       " 'b9acd2b65ceb2ce127b36446843287c40e2f4253': 'vanguart',\n",
       " 'b9c42baff6d721c6763047693ed3821fda14f9d9': 'michael jackson',\n",
       " 'ba0ca6fbba2a64f48daeaf20c29f9d94c7603763': 'amorphis',\n",
       " 'ba73b9a4878d895059d761a702518c02b80248cd': 'black eyed peas',\n",
       " 'bb8fab91bf6eff80df76168b2a3cf4db60cae3f6': 'keane',\n",
       " 'beb4e93bad636c605af17dea21589ab3344ddba4': 'yann tiersen',\n",
       " 'bf5cac9752c9921eb995550786e155b99384a3ea': 'lone star',\n",
       " 'c20ad27bbfa9b9818862a2bb855ebd083efdff8e': 'harmonium',\n",
       " 'c3269a0e4004e49ba864d81d6d3c54f6230d66d3': 'ulver',\n",
       " 'c3293141f3c5d4aeaff92451f149f2bfbaf551ce': 'belle and sebastian',\n",
       " 'c416b76edddc0de029864e6114fb94f0363a2153': 'los hermanos',\n",
       " 'c63311867856fdecfa9352a1e0f264241b814b09': 'polarkreis 18',\n",
       " 'ca0152d2958ec613917fa1ef0fa2d307680d71a7': 'black eyed peas',\n",
       " 'cb88484561f4f19ae54ab1c85ca13a780c491420': 'tomte',\n",
       " 'cc7c00b77295c56bbb038ff563fe3f732417e020': 'boom boom satellites',\n",
       " 'cd166b97348c9c99624221c2b2a9c1d7c6e0d237': 'jimmy eat world',\n",
       " 'ceac497b8c743749f3e587a095d6cdc904ac92e1': 'the uniques',\n",
       " 'cf5cf79faf2a3e62c36932cc0f3b1ab04434ecb3': 'david cook',\n",
       " 'd33562b853100eed373319bac2042d7281b96e34': 'michael jackson',\n",
       " 'd3aeb8e5caad21801a29c7886c6f8364fbbaf4e6': 'boom boom satellites',\n",
       " 'd42f6a0acda091c61a31fc07956c154ceee9c623': 'amorphis',\n",
       " 'd558289da7e15353ff602e090b85a648101f9ac5': 'jimmy eat world',\n",
       " 'd56eb7bbefa3de4e3ca9c3df3d8c06f635651315': 'yann tiersen',\n",
       " 'd8f574da4c398010b0e811e855ed6c155bf730ba': '12 stones',\n",
       " 'd968475a948ebf1536fe4c1f2e30c22e9a63c707': 'amon tobin',\n",
       " 'dab8865b8ac6b25f29b8ff4793160a12b946144e': 'vanguart',\n",
       " 'dc224df5a472738d756c15ffca67bf112cc3a7a7': 'vanguart',\n",
       " 'de09f88975da0bcb879b9b7c503ad8bf6c795730': 'jimmy eat world',\n",
       " 'df12d3a6d003306a115ab6fc1b40fa3cee5a06ec': 'chapeau claque',\n",
       " 'e05b30a55cd8d51d1af9066b530a73097a8d97d6': 'yann tiersen',\n",
       " 'e2d721ab666cae8f3fe0cccc230f21468a958284': 'hammerfall',\n",
       " 'e34f8f7b1289de12af3ae4e9bae411db59e2e9ce': 'faithless',\n",
       " 'e3533c358a4654dccbb7477825f993d9c1d78cf4': 'the classic crime',\n",
       " 'e4ada97866a48b918f34aef191d319f033842da0': 'black eyed peas',\n",
       " 'e593464d91d4e58e25b425ee854e5d834e8651d2': 'joe dassin',\n",
       " 'e5a3a799cb619dedd3295da946710449a03108e6': 'jimmy eat world',\n",
       " 'e799da404a4929080a7e09d3cd6cbe9242e14423': 'chapeau claque',\n",
       " 'e831083e477ca4b423201fd4307ec3eaee195def': 'boom boom satellites',\n",
       " 'eba0fc69f70ee6dc64989383a92e489492efa539': 'black eyed peas',\n",
       " 'ec5e97a486008859a73a9d2c2e312964109e1f99': 'vanguart',\n",
       " 'eed5a1599e7ea5961864698fb9568f5194e49f58': 'black eyed peas',\n",
       " 'f0fea43c193badba8a658fd509a2b2e46a9c5c11': 'polarkreis 18',\n",
       " 'f11e3e423e318d1c397e5d69a30504eb1da95495': 'joe dassin',\n",
       " 'f1a0fe7e94b5c46583dbccf64dc142bc245a7832': 'tomte',\n",
       " 'f63f1c001aa3d591707c73571a9017fc47213287': 'jimmy eat world',\n",
       " 'f79b43f869fbc1df38cef678306697c5c4964cc7': 'vanguart',\n",
       " 'f8908a53d8a268f714c29cdadcf7f6a34d156a12': 'amon amarth',\n",
       " 'f9ae4e6da3e037560cf2ed6347ff70e869f86738': 'clap your hands say yeah',\n",
       " 'f9b917cbb148d91dd36eca09e63dd5b51443e471': 'the classic crime',\n",
       " 'f9e63948786a788b029fffae7968d1076f5ddd74': 'harmonium',\n",
       " 'fa721b4c16303a782e317cae5113490d799df71c': 'vanguart',\n",
       " 'fbc183da56c69e656e2884363880f216e506ae2d': 'keane',\n",
       " 'fcae21c3e771fe8d2c8eb6b348afbdec316324d6': 'vanguart',\n",
       " 'fe1c9256c36222a1120fb4ccae176d39686ad5c0': 'amon tobin',\n",
       " 'fe5826283bb80ee17e48851d16074783bff67768': 'boom boom satellites',\n",
       " 'fe7cb5ddf4077aedfb04083bcbe95d4beec9fdc4': 'vanguart',\n",
       " 'ff9d855523b290088795f2ff22155353b9dc092f': 'youth group'}"
      ]
     },
     "execution_count": 11,
     "metadata": {},
     "output_type": "execute_result"
    }
   ],
   "source": [
    "recommendation"
   ]
  },
  {
   "cell_type": "code",
   "execution_count": 12,
   "metadata": {
    "scrolled": true
   },
   "outputs": [],
   "source": [
    "pd.DataFrame.from_dict(recommendation, orient='index').to_csv('recommendation.csv')"
   ]
  },
  {
   "cell_type": "code",
   "execution_count": null,
   "metadata": {},
   "outputs": [],
   "source": []
  }
 ],
 "metadata": {
  "anaconda-cloud": {},
  "kernelspec": {
   "display_name": "Python [conda env:FX_trading]",
   "language": "python",
   "name": "conda-env-FX_trading-py"
  },
  "language_info": {
   "codemirror_mode": {
    "name": "ipython",
    "version": 3
   },
   "file_extension": ".py",
   "mimetype": "text/x-python",
   "name": "python",
   "nbconvert_exporter": "python",
   "pygments_lexer": "ipython3",
   "version": "3.6.6"
  }
 },
 "nbformat": 4,
 "nbformat_minor": 2
}
